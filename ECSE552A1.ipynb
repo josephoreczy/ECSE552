{
  "nbformat": 4,
  "nbformat_minor": 0,
  "metadata": {
    "colab": {
      "name": "ECSE552A1.ipynb",
      "provenance": [],
      "authorship_tag": "ABX9TyPa5uEeI4uqJsxEJGI1qfp7"
    },
    "kernelspec": {
      "name": "python3",
      "display_name": "Python 3"
    },
    "language_info": {
      "name": "python"
    }
  },
  "cells": [
    {
      "cell_type": "code",
      "source": [
        "import numpy as np\n",
        "import time\n",
        "import pandas as pd\n",
        "import matplotlib.pyplot as plt"
      ],
      "metadata": {
        "id": "vRx5m7szk7w7"
      },
      "execution_count": 614,
      "outputs": []
    },
    {
      "cell_type": "code",
      "source": [
        "# Training Data\n",
        "x_train = np.array(pd.read_csv('training_set.csv', header=None).values)\n",
        "y_train = np.array(pd.read_csv('training_labels_bin.csv', header=None).values)\n",
        "x_val = np.array(pd.read_csv('validation_set.csv', header=None).values)\n",
        "y_val = np.array(pd.read_csv('validation_labels_bin.csv', header=None).values)"
      ],
      "metadata": {
        "id": "FD2rlbpq5dHB"
      },
      "execution_count": 615,
      "outputs": []
    },
    {
      "cell_type": "code",
      "source": [
        "N = len(x_train)\n",
        "print(N)\n",
        "print(len(y_train))\n",
        "print(len(x_val))\n",
        "print(len(y_val))"
      ],
      "metadata": {
        "colab": {
          "base_uri": "https://localhost:8080/"
        },
        "id": "y7_1e8N6v7qX",
        "outputId": "9dcbe016-7ec9-40f4-fda5-6b220766a4dd"
      },
      "execution_count": 616,
      "outputs": [
        {
          "output_type": "stream",
          "name": "stdout",
          "text": [
            "8442\n",
            "8442\n",
            "1048\n",
            "1048\n"
          ]
        }
      ]
    },
    {
      "cell_type": "code",
      "source": [
        "num_feats = x_train.shape[1]\n",
        "n_out = y_train.shape[1]\n",
        "print(num_feats)\n",
        "print(n_out)"
      ],
      "metadata": {
        "colab": {
          "base_uri": "https://localhost:8080/"
        },
        "id": "wfzaYspbv--l",
        "outputId": "20317e1f-b0b9-4855-d22e-f31ad5dfb098"
      },
      "execution_count": 617,
      "outputs": [
        {
          "output_type": "stream",
          "name": "stdout",
          "text": [
            "354\n",
            "3\n"
          ]
        }
      ]
    },
    {
      "cell_type": "code",
      "source": [
        "# add room for bias\n",
        "bias_train = np.ones((x_train.shape[0], 1))\n",
        "bias_val = np.ones((x_val.shape[0], 1))\n",
        "x_train = np.append(x_train, bias_train, axis = 1)\n",
        "x_val = np.append(x_val, bias_val, axis = 1)"
      ],
      "metadata": {
        "id": "hqTcFXyku3wX"
      },
      "execution_count": 618,
      "outputs": []
    },
    {
      "cell_type": "code",
      "source": [
        "# initialize the hidden layers\n",
        "W1 = np.random.uniform(-1, 1, num_feats*num_feats).reshape((num_feats, num_feats))\n",
        "W2 = np.random.uniform(-1, 1, num_feats*3).reshape((num_feats, 3))"
      ],
      "metadata": {
        "id": "_cQKZsAsoTcw"
      },
      "execution_count": 619,
      "outputs": []
    },
    {
      "cell_type": "code",
      "source": [
        "def sigmoid(x):\n",
        "  return 1/(1+np.exp(-x))\n",
        "\n",
        "def grad_sigmoid(x):\n",
        "  return sigmoid(x)*(1-sigmoid(x))\n",
        "\n",
        "def squared_error(guess, correct):\n",
        "  return sum((guess-correct)**2)\n",
        "\n",
        "def grad_squared_error(guess, correct):\n",
        "  grad_vec = np.zeros(len(guess))\n",
        "  for j in range(len(guess)):\n",
        "    grad_vec[j] = 2*(guess[j]-correct[j])\n",
        "  return np.reshape(grad_vec, (1, len(grad_vec)))\n",
        "\n",
        "# fully connected, 2 hidden layers, vector of size 3 output\n",
        "# we assume an input of 1x355 with the last entry a 1\n",
        "class Computation_Graph:\n",
        "  def __init__(self, w1, w2):\n",
        "    # put the bias into the first weight matrix so the addition is a simply result of matrix multiplication\n",
        "    # initialize a bias\n",
        "    bias = np.random.uniform(-1, 1, 354)\n",
        "    self.w1 = np.append(w1, np.array([bias]), axis = 0)\n",
        "    self.w2 = w2\n",
        "    self.a1 = np.zeros((1, 354))\n",
        "    self.h1 = np.zeros((1, 354))\n",
        "    self.a2 = np.zeros((1, 3))\n",
        "    self.h2 = np.zeros((1, 3))\n",
        "    return\n",
        "  \n",
        "  def forward_pass(self, src, sink):\n",
        "    src = np.reshape(src, (1, 355))\n",
        "    sink = np.reshape(sink, (1, 3))\n",
        "    self.a1 = np.matmul(src, self.w1)\n",
        "    self.h1 = sigmoid(self.a1)\n",
        "    self.a2 = np.matmul(self.h1, self.w2)\n",
        "    self.h2 = sigmoid(self.a2)\n",
        "    self.J = squared_error(self.h2[0], sink[0])\n",
        "\n",
        "  def backprop(self, src, sink, lr):\n",
        "    sink = np.reshape(sink, (1, 3))\n",
        "    src = np.reshape(src, (1, 355))\n",
        "    g = grad_squared_error(self.h2[0], sink[0])\n",
        "    g = g*grad_sigmoid(self.a2)\n",
        "    grad_w2 = np.matmul(self.h1.T, g)\n",
        "    g = np.matmul(g, self.w2.T)\n",
        "    g = g*grad_sigmoid(self.a1)\n",
        "    grad_w1 = np.matmul(src.T, g)\n",
        "    g = np.matmul(g, self.w1.T)\n",
        "\n",
        "    self.w1 -= lr*grad_w1\n",
        "    self.w2 -= lr*grad_w2"
      ],
      "metadata": {
        "id": "dAz9fQIuxEjB"
      },
      "execution_count": 620,
      "outputs": []
    },
    {
      "cell_type": "code",
      "source": [
        "# hyperparameters (you may change these)\n",
        "eta = 0.1 # intial learning rate\n",
        "gamma = 0.1 # multiplier for the learning rate\n",
        "stepsize = 200 # epochs before changing learning rate\n",
        "threshold = 0.08 # stopping criterion\n",
        "test_interval = 10 # number of epoch before validating\n",
        "max_epoch = 300"
      ],
      "metadata": {
        "id": "D883qWjslBzM"
      },
      "execution_count": 621,
      "outputs": []
    },
    {
      "cell_type": "code",
      "source": [
        "cg = Computation_Graph(W1, W2)\n",
        "\n",
        "for epoch in range(0, max_epoch):\n",
        "    \n",
        "    order = np.random.permutation(N) # shuffle data\n",
        "    \n",
        "    sse = 0\n",
        "    for n in range(0, N):\n",
        "        idx = order[n]\n",
        "\n",
        "        # get a sample (batch size=1)\n",
        "        x_in = x_train[idx]\n",
        "        y = y_train[idx]\n",
        "\n",
        "        cg.forward_pass(x_in, y)\n",
        "        cg.backprop(x_in, y, eta)\n",
        "    \n",
        "        sse += cg.J\n",
        "\n",
        "    train_mse = sse/len(x_train)\n",
        "    print(train_mse)"
      ],
      "metadata": {
        "colab": {
          "base_uri": "https://localhost:8080/",
          "height": 564
        },
        "id": "o3ZBkceaasgE",
        "outputId": "b6732942-c42a-4021-d7cb-9df2a885f81c"
      },
      "execution_count": 622,
      "outputs": [
        {
          "output_type": "stream",
          "name": "stdout",
          "text": [
            "0.6655351445206026\n",
            "0.30058756578536894\n",
            "0.23410873277580604\n",
            "0.1957214358657516\n",
            "0.17526389214508992\n",
            "0.16114179303090012\n",
            "0.14788945272006745\n",
            "0.13931013343580503\n",
            "0.1293305642631005\n",
            "0.1224735646750579\n",
            "0.11294764317114678\n",
            "0.11052969199514404\n"
          ]
        },
        {
          "output_type": "error",
          "ename": "KeyboardInterrupt",
          "evalue": "ignored",
          "traceback": [
            "\u001b[0;31m---------------------------------------------------------------------------\u001b[0m",
            "\u001b[0;31mKeyboardInterrupt\u001b[0m                         Traceback (most recent call last)",
            "\u001b[0;32m<ipython-input-622-2962dd23fbbd>\u001b[0m in \u001b[0;36m<module>\u001b[0;34m()\u001b[0m\n\u001b[1;32m     14\u001b[0m \u001b[0;34m\u001b[0m\u001b[0m\n\u001b[1;32m     15\u001b[0m         \u001b[0mcg\u001b[0m\u001b[0;34m.\u001b[0m\u001b[0mforward_pass\u001b[0m\u001b[0;34m(\u001b[0m\u001b[0mx_in\u001b[0m\u001b[0;34m,\u001b[0m \u001b[0my\u001b[0m\u001b[0;34m)\u001b[0m\u001b[0;34m\u001b[0m\u001b[0;34m\u001b[0m\u001b[0m\n\u001b[0;32m---> 16\u001b[0;31m         \u001b[0mcg\u001b[0m\u001b[0;34m.\u001b[0m\u001b[0mbackprop\u001b[0m\u001b[0;34m(\u001b[0m\u001b[0mx_in\u001b[0m\u001b[0;34m,\u001b[0m \u001b[0my\u001b[0m\u001b[0;34m,\u001b[0m \u001b[0meta\u001b[0m\u001b[0;34m)\u001b[0m\u001b[0;34m\u001b[0m\u001b[0;34m\u001b[0m\u001b[0m\n\u001b[0m\u001b[1;32m     17\u001b[0m \u001b[0;34m\u001b[0m\u001b[0m\n\u001b[1;32m     18\u001b[0m         \u001b[0msse\u001b[0m \u001b[0;34m+=\u001b[0m \u001b[0mcg\u001b[0m\u001b[0;34m.\u001b[0m\u001b[0mJ\u001b[0m\u001b[0;34m\u001b[0m\u001b[0;34m\u001b[0m\u001b[0m\n",
            "\u001b[0;32m<ipython-input-620-5bcfa78a9598>\u001b[0m in \u001b[0;36mbackprop\u001b[0;34m(self, src, sink, lr)\u001b[0m\n\u001b[1;32m     47\u001b[0m     \u001b[0mg\u001b[0m \u001b[0;34m=\u001b[0m \u001b[0mg\u001b[0m\u001b[0;34m*\u001b[0m\u001b[0mgrad_sigmoid\u001b[0m\u001b[0;34m(\u001b[0m\u001b[0mself\u001b[0m\u001b[0;34m.\u001b[0m\u001b[0ma1\u001b[0m\u001b[0;34m)\u001b[0m\u001b[0;34m\u001b[0m\u001b[0;34m\u001b[0m\u001b[0m\n\u001b[1;32m     48\u001b[0m     \u001b[0mgrad_w1\u001b[0m \u001b[0;34m=\u001b[0m \u001b[0mnp\u001b[0m\u001b[0;34m.\u001b[0m\u001b[0mmatmul\u001b[0m\u001b[0;34m(\u001b[0m\u001b[0msrc\u001b[0m\u001b[0;34m.\u001b[0m\u001b[0mT\u001b[0m\u001b[0;34m,\u001b[0m \u001b[0mg\u001b[0m\u001b[0;34m)\u001b[0m\u001b[0;34m\u001b[0m\u001b[0;34m\u001b[0m\u001b[0m\n\u001b[0;32m---> 49\u001b[0;31m     \u001b[0mg\u001b[0m \u001b[0;34m=\u001b[0m \u001b[0mnp\u001b[0m\u001b[0;34m.\u001b[0m\u001b[0mmatmul\u001b[0m\u001b[0;34m(\u001b[0m\u001b[0mg\u001b[0m\u001b[0;34m,\u001b[0m \u001b[0mself\u001b[0m\u001b[0;34m.\u001b[0m\u001b[0mw1\u001b[0m\u001b[0;34m.\u001b[0m\u001b[0mT\u001b[0m\u001b[0;34m)\u001b[0m\u001b[0;34m\u001b[0m\u001b[0;34m\u001b[0m\u001b[0m\n\u001b[0m\u001b[1;32m     50\u001b[0m \u001b[0;34m\u001b[0m\u001b[0m\n\u001b[1;32m     51\u001b[0m     \u001b[0mself\u001b[0m\u001b[0;34m.\u001b[0m\u001b[0mw1\u001b[0m \u001b[0;34m-=\u001b[0m \u001b[0mlr\u001b[0m\u001b[0;34m*\u001b[0m\u001b[0mgrad_w1\u001b[0m\u001b[0;34m\u001b[0m\u001b[0;34m\u001b[0m\u001b[0m\n",
            "\u001b[0;31mKeyboardInterrupt\u001b[0m: "
          ]
        }
      ]
    },
    {
      "cell_type": "code",
      "source": [
        "cg.forward_pass(x_val[0], y_val[0])"
      ],
      "metadata": {
        "id": "QuPDL6Jq7ccT"
      },
      "execution_count": 623,
      "outputs": []
    },
    {
      "cell_type": "code",
      "source": [
        "cg.h2"
      ],
      "metadata": {
        "colab": {
          "base_uri": "https://localhost:8080/"
        },
        "id": "t_WKwHRR8nik",
        "outputId": "92c2130a-eb6a-44ef-b4eb-9de42163ef49"
      },
      "execution_count": 625,
      "outputs": [
        {
          "output_type": "execute_result",
          "data": {
            "text/plain": [
              "array([[0.10244769, 0.99541194, 0.99609892]])"
            ]
          },
          "metadata": {},
          "execution_count": 625
        }
      ]
    },
    {
      "cell_type": "code",
      "source": [
        "y_val[0]"
      ],
      "metadata": {
        "colab": {
          "base_uri": "https://localhost:8080/"
        },
        "id": "SJypB11H8xT3",
        "outputId": "4a848e52-c40f-4b1f-f287-dec6b544f7d8"
      },
      "execution_count": 626,
      "outputs": [
        {
          "output_type": "execute_result",
          "data": {
            "text/plain": [
              "array([0, 1, 1])"
            ]
          },
          "metadata": {},
          "execution_count": 626
        }
      ]
    },
    {
      "cell_type": "code",
      "source": [
        "f = np.array([[2,1,2], [1,2], [1,2,2,3,3,2]])"
      ],
      "metadata": {
        "colab": {
          "base_uri": "https://localhost:8080/"
        },
        "id": "XhWh2bmz8f28",
        "outputId": "27b07ffa-2e8b-48df-e755-1b54f638114d"
      },
      "execution_count": 630,
      "outputs": [
        {
          "output_type": "stream",
          "name": "stderr",
          "text": [
            "/usr/local/lib/python3.7/dist-packages/ipykernel_launcher.py:1: VisibleDeprecationWarning: Creating an ndarray from ragged nested sequences (which is a list-or-tuple of lists-or-tuples-or ndarrays with different lengths or shapes) is deprecated. If you meant to do this, you must specify 'dtype=object' when creating the ndarray\n",
            "  \"\"\"Entry point for launching an IPython kernel.\n"
          ]
        }
      ]
    },
    {
      "cell_type": "code",
      "source": [
        "f[2]"
      ],
      "metadata": {
        "colab": {
          "base_uri": "https://localhost:8080/"
        },
        "id": "cz0B7MY181Xs",
        "outputId": "a50d7ddf-3b34-4ff5-d439-990d6dc9308f"
      },
      "execution_count": 633,
      "outputs": [
        {
          "output_type": "execute_result",
          "data": {
            "text/plain": [
              "[1, 2, 2, 3, 3, 2]"
            ]
          },
          "metadata": {},
          "execution_count": 633
        }
      ]
    },
    {
      "cell_type": "code",
      "source": [
        "if epoch % test_interval == 0: \n",
        "        # [ ] test on validation set here\n",
        "\n",
        "        # if termination condition is satisfied, exit\n",
        "        if val_mse < threshold:\n",
        "            break\n",
        "\n",
        "    if epoch % stepsize == 0 and epoch != 0:\n",
        "        eta = eta*gamma\n",
        "        print('Changed learning rate to lr=' + str(eta))"
      ],
      "metadata": {
        "id": "kAa2mage6EfY"
      },
      "execution_count": null,
      "outputs": []
    }
  ]
}